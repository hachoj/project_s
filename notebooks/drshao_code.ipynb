{
 "cells": [
  {
   "cell_type": "code",
   "execution_count": 1,
   "id": "36c158d4",
   "metadata": {},
   "outputs": [],
   "source": [
    "import SimpleITK as sitk\n",
    "import numpy as np\n",
    "from glob import glob\n",
    "import math\n",
    "import matplotlib.pyplot as plt\n",
    "import pydicom"
   ]
  },
  {
   "cell_type": "code",
   "execution_count": 2,
   "id": "ed20dc39",
   "metadata": {},
   "outputs": [
    {
     "name": "stdout",
     "output_type": "stream",
     "text": [
      "minimum angle:  -68.21099616261\n",
      "maximum angle:  87.3178479169242\n"
     ]
    }
   ],
   "source": [
    "### This folder contains a stack of micro-ultrasound dicom images\n",
    "dicom_path = '../UF_Data/micro-ultrasound/Clippped/UF010/Tumor/1_Small/'\n",
    "### Get the file names of all dicom images in the folder dicom_path\n",
    "dicom_image_names = glob(dicom_path + '*.dcm')\n",
    "\n",
    "num_of_images = len(dicom_image_names)\n",
    "\n",
    "list_of_dicom_images = [] ### a list stores dicom images read by sitk\n",
    "angles = np.zeros(num_of_images) ### an array stores the rotation angle of each dicom image\n",
    "\n",
    "for i in range(num_of_images):\n",
    "    img = sitk.ReadImage(dicom_image_names[i])\n",
    "    list_of_dicom_images.append(img)\n",
    "    angles[i] = img.GetOrigin()[2] ### the third coordinate of the image origin is the rotation angle in degree\n",
    "\n",
    "### get the min and max rotation angles of the sweep\n",
    "angle_max = np.max(angles)\n",
    "angle_min = np.min(angles)\n",
    "print(\"minimum angle: \", angle_min)\n",
    "print(\"maximum angle: \", angle_max)"
   ]
  },
  {
   "cell_type": "code",
   "execution_count": 3,
   "id": "f2d93f04",
   "metadata": {},
   "outputs": [],
   "source": [
    "### number of dicom image pixels in the superior-inferior direction\n",
    "width_num_pixels = list_of_dicom_images[0].GetSize()[0]\n",
    "### number of dicom image pixels in the oblique direction\n",
    "height_num_pixels = list_of_dicom_images[0].GetSize()[1]\n",
    "\n",
    "### get in-plane resolution of dicom images\n",
    "spacing = list_of_dicom_images[0].GetSpacing()[0]\n",
    "### compute width of each dicom image (mm)\n",
    "width = spacing*width_num_pixels\n",
    "### compute height of each dicom image (mm)\n",
    "height = spacing*height_num_pixels\n",
    "\n",
    "### radius of the probe (mm)\n",
    "probe_radius = 12.5 \n",
    "\n",
    "#### compute the physical size of the reconstructed 3D micro-ultrasound volume in each direction \n",
    "AP = height + probe_radius # distance from anterior to posterior\n",
    "LR = 2*AP # distance from left to right\n",
    "SI = width # distance from superior to interior"
   ]
  },
  {
   "cell_type": "code",
   "execution_count": 4,
   "id": "b4a539d8",
   "metadata": {},
   "outputs": [],
   "source": [
    "#### since the in-plane resolution of micro-ultrasound dicom images is very high (~0.04mm),\n",
    "### We can use isotropic voxel spacing of ~6*0.04 = 0.24mm\n",
    "factor = 6\n",
    "### Set spacing in each direction\n",
    "spacing_LR = spacing*factor\n",
    "spacing_AP = spacing*factor\n",
    "spacing_SI = spacing*factor*4\n",
    "### compute number of pixels in each direction based on the physical size and image spacing\n",
    "LR_num_pixels = int(LR/spacing_LR)\n",
    "AP_num_pixels = int(AP/spacing_AP)\n",
    "SI_num_pixels = int(SI/spacing_SI)\n",
    "\n",
    "#### creat a 3D micro-ultrasound image volume\n",
    "microUS_3D = sitk.Image(LR_num_pixels,AP_num_pixels,SI_num_pixels,sitk.sitkUInt8)\n",
    "### SetImage Spacing\n",
    "microUS_3D.SetSpacing((spacing_LR, spacing_AP, spacing_SI ))"
   ]
  },
  {
   "cell_type": "code",
   "execution_count": 5,
   "id": "4583963c",
   "metadata": {},
   "outputs": [],
   "source": [
    "def get_rotation_angle(x,y,h,r):\n",
    "    ### x, y are image indicies, they are integers\n",
    "    ### h is the height of the input dicom image, r is the radius of the probe, unit is mm\n",
    "    \n",
    "    distance_to_midline = x*spacing_LR - (h+r)\n",
    "    distance_to_posterior = h + r - y*spacing_AP\n",
    "    \n",
    "    theta = math.degrees(math.atan(distance_to_midline/distance_to_posterior))\n",
    "    return -theta\n",
    "\n",
    "def get_distance_to_center_of_probe(x,y,h,r):\n",
    "    distance_to_midline = x*spacing_LR - (h+r)\n",
    "    distance_to_posterior = h + r - y*spacing_AP\n",
    "    \n",
    "    return np.sqrt(distance_to_midline**2 + distance_to_posterior**2)"
   ]
  },
  {
   "cell_type": "code",
   "execution_count": 6,
   "id": "545ebc71",
   "metadata": {},
   "outputs": [],
   "source": [
    "for z in range(SI_num_pixels):\n",
    "    for x in range(LR_num_pixels):\n",
    "        for y in range(AP_num_pixels):\n",
    "            theta = get_rotation_angle(x,y,height,probe_radius)\n",
    "\n",
    "            if theta >= angle_min and theta <= angle_max:\n",
    "                ### find the micro-US image for theta\n",
    "                idx = np.abs(angles - theta).argmin()\n",
    "\n",
    "                ### get the i, and j index of the point (x,y,z) in the 2D microUS slice (idx)\n",
    "                i = int(z*spacing_SI/spacing)\n",
    "                d = get_distance_to_center_of_probe(x,y,height,probe_radius)\n",
    "                j = int((height + probe_radius - d)/spacing)\n",
    "                if (j>=0 and j<height_num_pixels) and i<width_num_pixels:\n",
    "                    pixelValue = list_of_dicom_images[idx].GetPixel(i,j,0)[0]\n",
    "                    microUS_3D.SetPixel( (x,y,z), pixelValue)  "
   ]
  },
  {
   "cell_type": "code",
   "execution_count": 7,
   "id": "58345ac3",
   "metadata": {},
   "outputs": [],
   "source": [
    "sitk.WriteImage(microUS_3D, './microUS_3D_UF010.nii.gz')"
   ]
  },
  {
   "cell_type": "code",
   "execution_count": null,
   "id": "232ed185",
   "metadata": {},
   "outputs": [],
   "source": []
  }
 ],
 "metadata": {
  "kernelspec": {
   "display_name": "Python 3 (ipykernel)",
   "language": "python",
   "name": "python3"
  },
  "language_info": {
   "codemirror_mode": {
    "name": "ipython",
    "version": 3
   },
   "file_extension": ".py",
   "mimetype": "text/x-python",
   "name": "python",
   "nbconvert_exporter": "python",
   "pygments_lexer": "ipython3",
   "version": "3.10.6"
  }
 },
 "nbformat": 4,
 "nbformat_minor": 5
}
